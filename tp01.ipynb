{
 "cells": [
  {
   "cell_type": "code",
   "execution_count": 1,
   "metadata": {},
   "outputs": [],
   "source": [
    "\n",
    "from PIL import Image\n",
    "\n",
    "image_path = r\"C:\\Users\\DELL\\Desktop\\myimage.jpg\"  \n",
    "image = Image.open(image_path)\n"
   ]
  },
  {
   "cell_type": "code",
   "execution_count": 3,
   "metadata": {},
   "outputs": [
    {
     "name": "stdout",
     "output_type": "stream",
     "text": [
      "Taille de l'image : (675, 1200)\n",
      "Format de l'image : JPEG\n"
     ]
    }
   ],
   "source": [
    "taille_image = image.size\n",
    "format_image = image.format\n",
    "print(f\"Taille de l'image : {taille_image}\")\n",
    "print(f\"Format de l'image : {format_image}\")"
   ]
  },
  {
   "cell_type": "code",
   "execution_count": 4,
   "metadata": {},
   "outputs": [
    {
     "name": "stdout",
     "output_type": "stream",
     "text": [
      "Valeur du dernier pixel : (35, 28, 22)\n"
     ]
    }
   ],
   "source": [
    "dernier_pixel = image.getpixel((taille_image[0] - 1, taille_image[1] - 1))\n",
    "print(f\"Valeur du dernier pixel : {dernier_pixel}\")\n"
   ]
  },
  {
   "cell_type": "code",
   "execution_count": 2,
   "metadata": {},
   "outputs": [
    {
     "name": "stdout",
     "output_type": "stream",
     "text": [
      "Red Channel:\n",
      "[[120 120 119 ...  39  39  39]\n",
      " [120 120 119 ...  41  41  41]\n",
      " [120 120 119 ...  42  42  42]\n",
      " ...\n",
      " [136 136 136 ...  38  38  38]\n",
      " [136 136 136 ...  39  39  39]\n",
      " [136 136 136 ...  35  35  35]]\n",
      "Green Channel:\n",
      "[[110 110 111 ...  34  34  34]\n",
      " [110 110 111 ...  36  36  36]\n",
      " [110 110 111 ...  37  37  37]\n",
      " ...\n",
      " [127 127 127 ...  31  31  31]\n",
      " [127 127 127 ...  32  32  32]\n",
      " [127 127 127 ...  28  28  28]]\n",
      "Blue Channel:\n",
      "[[100 100 100 ...  28  28  28]\n",
      " [100 100 100 ...  30  30  30]\n",
      " [100 100 100 ...  31  31  31]\n",
      " ...\n",
      " [112 112 112 ...  25  25  25]\n",
      " [112 112 112 ...  26  26  26]\n",
      " [112 112 112 ...  22  22  22]]\n"
     ]
    }
   ],
   "source": [
    "\n",
    "import numpy as np\n",
    "\n",
    "\n",
    "\n",
    "\n",
    "\n",
    "r, g, b = image.split()\n",
    "\n",
    "\n",
    "r_array = np.array(r)\n",
    "g_array = np.array(g)\n",
    "b_array = np.array(b)\n",
    "\n",
    "print(\"Red Channel:\")\n",
    "print(r_array)\n",
    "\n",
    "print(\"Green Channel:\")\n",
    "print(g_array)\n",
    "\n",
    "print(\"Blue Channel:\")\n",
    "print(b_array)"
   ]
  },
  {
   "cell_type": "code",
   "execution_count": 3,
   "metadata": {},
   "outputs": [],
   "source": [
    "\n",
    "r, g, b = image.split()\n",
    "r.show(\"red_channel.jpg\")\n",
    "g.show(\"green_channel.jpg\")\n",
    "b.show(\"blue_channel.jpg\")"
   ]
  },
  {
   "cell_type": "code",
   "execution_count": 4,
   "metadata": {},
   "outputs": [],
   "source": [
    "\n",
    "gray_image = image.convert(\"L\")\n",
    "gray_image.show(\"Grayscale Image\")"
   ]
  },
  {
   "cell_type": "code",
   "execution_count": 21,
   "metadata": {},
   "outputs": [],
   "source": [
    "#grayscale manually\n",
    "\n",
    "from PIL import Image\n",
    "\n",
    "\n",
    "width, height = image.size\n",
    "gray_image = Image.new('L', (width, height))\n",
    "\n",
    "for x in range(width):\n",
    "    for y in range(height):\n",
    "        r, g, b = image.getpixel((x, y))  \n",
    "        gray = int((r + g + b) / 3) \n",
    "        gray_image.putpixel((x, y), gray) \n",
    "\n",
    "gray_image.show(\"Grayscale Image\")"
   ]
  },
  {
   "cell_type": "code",
   "execution_count": 8,
   "metadata": {},
   "outputs": [
    {
     "data": {
      "image/png": "[encoded data removed]",
      "text/plain": [
       "<Figure size 1000x500 with 1 Axes>"
      ]
     },
     "metadata": {},
     "output_type": "display_data"
    }
   ],
   "source": [
    "import numpy as np\n",
    "\n",
    "import matplotlib.pyplot as plt\n",
    "\n",
    "\n",
    "\n",
    "gray_image = image.convert(\"L\") \n",
    "\n",
    "\n",
    "\n",
    "image_array = np.array(gray_image)\n",
    "\n",
    "\n",
    "histogram = np.zeros(256) \n",
    "\n",
    "\n",
    "for row in image_array:\n",
    "    for pixel in row:\n",
    "        histogram[pixel] += 1\n",
    "\n",
    "# Display the histogram\n",
    "plt.figure(figsize=(10, 5))\n",
    "plt.bar(range(256), histogram)\n",
    "plt.title(\"Grayscale Histogram\")\n",
    "plt.xlabel(\"Pixel Value\")\n",
    "plt.ylabel(\"Frequency\")\n",
    "plt.show()"
   ]
  },
  {
   "cell_type": "code",
   "execution_count": null,
   "metadata": {},
   "outputs": [],
   "source": []
  },
  {
   "cell_type": "code",
   "execution_count": 5,
   "metadata": {},
   "outputs": [],
   "source": [
    "\n",
    "\n",
    "\n",
    "r, g, b = image.split()\n",
    "\n",
    "\n",
    "empty = Image.new(\"L\", image.size)\n",
    "red_image = Image.merge(\"RGB\", (r, empty, empty))\n",
    "green_image = Image.merge(\"RGB\", (empty, g, empty))\n",
    "blue_image = Image.merge(\"RGB\", (empty, empty, b))\n",
    "red_image.show(\"Red Image\")\n",
    "green_image.show(\"Green Image\")\n",
    "blue_image.show(\"Blue Image\")"
   ]
  },
  {
   "cell_type": "code",
   "execution_count": 6,
   "metadata": {},
   "outputs": [],
   "source": [
    "from PIL import ImageDraw\n",
    "\n",
    "\n",
    "width, height = image.size\n",
    "\n",
    "\n",
    "center_x = width // 2\n",
    "center_y = height // 2\n",
    "\n",
    "\n",
    "left = center_x - 50\n",
    "top = center_y - 50\n",
    "right = center_x + 50\n",
    "bottom = center_y + 50\n",
    "\n",
    "\n",
    "draw = ImageDraw.Draw(image)\n",
    "\n",
    "\n",
    "draw.rectangle([(left, top), (right, bottom)], outline='red')\n",
    "\n",
    "image.show()"
   ]
  },
  {
   "cell_type": "code",
   "execution_count": 7,
   "metadata": {},
   "outputs": [],
   "source": [
    "from PIL import ImageDraw\n",
    "\n",
    "# Assuming 'image' is your PIL Image object\n",
    "width, height = image.size\n",
    "\n",
    "center_x = width // 2\n",
    "center_y = height // 2\n",
    "\n",
    "left = center_x - 50\n",
    "top = center_y - 50\n",
    "right = center_x + 50\n",
    "bottom = center_y + 50\n",
    "\n",
    "draw = ImageDraw.Draw(image)\n",
    "\n",
    "\n",
    "draw.rectangle([(left, top), (right, bottom)], outline='red')\n",
    "\n",
    "\n",
    "cropped_image = image.crop((left, top, right, bottom))\n",
    "\n",
    "# Display only the rectangle\n",
    "cropped_image.show()"
   ]
  },
  {
   "cell_type": "code",
   "execution_count": 8,
   "metadata": {},
   "outputs": [],
   "source": [
    "from PIL import Image\n",
    "\n",
    "\n",
    "image_path = r\"C:\\Users\\DELL\\Desktop\\myimage.jpg\"  \n",
    "image = Image.open(image_path)\n",
    "\n",
    "\n",
    "width, height = image.size \n",
    "\n",
    "upper_left = image.crop((0, 0, width//2, height//2)) \n",
    "upper_right = image.crop((width//2, 0, width, height//2))\n",
    "lower_left = image.crop((0, height//2, width//2, height))\n",
    "lower_right = image.crop((width//2, height//2, width, height))\n",
    "\n",
    "\n",
    "new_image = Image.new('RGB', (width, height)) \n",
    "new_image.paste(lower_left, (width//2, 0))\n",
    "new_image.paste(lower_right, (0, 0)) \n",
    "new_image.paste(upper_right, (0, height//2))\n",
    "new_image.paste(upper_left, (width//2, height//2))\n",
    "\n",
    "\n",
    "new_image.show()"
   ]
  }
 ],
 "metadata": {
  "kernelspec": {
   "display_name": "Python 3",
   "language": "python",
   "name": "python3"
  },
  "language_info": {
   "codemirror_mode": {
    "name": "ipython",
    "version": 3
   },
   "file_extension": ".py",
   "mimetype": "text/x-python",
   "name": "python",
   "nbconvert_exporter": "python",
   "pygments_lexer": "ipython3",
   "version": "3.12.0"
  }
 },
 "nbformat": 4,
 "nbformat_minor": 2
}
